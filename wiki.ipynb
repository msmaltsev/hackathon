{
 "cells": [
  {
   "cell_type": "code",
   "execution_count": 22,
   "metadata": {},
   "outputs": [
    {
     "name": "stdout",
     "output_type": "stream",
     "text": [
      "Wall time: 46min 23s\n"
     ]
    }
   ],
   "source": [
    "%%time\n",
    "\n",
    "import urllib.request, re, time\n",
    "\n",
    "def connect_to_page(word, recur):\n",
    "    try:\n",
    "        url = 'https://en.wikipedia.org/wiki/'+word\n",
    "        req = urllib.request.Request(url, headers={'User-Agent' : \"Mozilla/5.0 (Windows NT 6.0; WOW64; rv:12.0) Gecko/20100101 Firefox/12.0\"}) \n",
    "        page = urllib.request.urlopen(req).read().decode('utf-8')\n",
    "\n",
    "        if recur == False:\n",
    "            if '</b> may refer to:</p>\\n<ul>' in page:\n",
    "                possible_meanings = re.findall('<li>[a-zA-Z ,\\-]*<a href=\"/wiki/([^\"]+)\"', page)\n",
    "                page = connect_to_page(possible_meanings[0], True)\n",
    "                      \n",
    "    except urllib.error.HTTPError:\n",
    "        page = ''\n",
    "\n",
    "    except urllib.error.URLError:\n",
    "        time.sleep(5)\n",
    "        page = connect_to_page(word, False)\n",
    "    return(page)\n",
    "\n",
    "testing = open('validation.txt', 'r', encoding='utf-8')\n",
    "features = open('validation_wiki.txt', 'w', encoding='utf-8')\n",
    "\n",
    "for line in testing:\n",
    "    entries = line.strip('\\n').split(',')\n",
    "    \n",
    "    page = connect_to_page(entries[0].capitalize(), False)\n",
    "    occurences_1 = len(re.findall(entries[2], page))\n",
    "    page = connect_to_page(entries[1].capitalize(), False)\n",
    "    occurences_2 = len(re.findall(entries[2], page))\n",
    "\n",
    "    features.write(entries[0]+','+entries[1]+','+entries[2]+','+entries[3]+','+str(occurences_1)+','+str(occurences_2)+'\\n')\n",
    "features.close()"
   ]
  },
  {
   "cell_type": "code",
   "execution_count": null,
   "metadata": {},
   "outputs": [],
   "source": []
  }
 ],
 "metadata": {
  "kernelspec": {
   "display_name": "Python 3",
   "language": "python",
   "name": "python3"
  },
  "language_info": {
   "codemirror_mode": {
    "name": "ipython",
    "version": 3
   },
   "file_extension": ".py",
   "mimetype": "text/x-python",
   "name": "python",
   "nbconvert_exporter": "python",
   "pygments_lexer": "ipython3",
   "version": "3.6.3"
  }
 },
 "nbformat": 4,
 "nbformat_minor": 2
}
