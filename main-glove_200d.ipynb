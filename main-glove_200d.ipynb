{
 "cells": [
  {
   "cell_type": "code",
   "execution_count": 1,
   "metadata": {},
   "outputs": [
    {
     "name": "stderr",
     "output_type": "stream",
     "text": [
      "c:\\program files\\python36\\lib\\site-packages\\gensim\\utils.py:860: UserWarning: detected Windows; aliasing chunkize to chunkize_serial\n",
      "  warnings.warn(\"detected Windows; aliasing chunkize to chunkize_serial\")\n"
     ]
    }
   ],
   "source": [
    "# -*- coding: utf-8 -*-\n",
    "import re, time, logging, gensim\n",
    "from gensim.models import word2vec\n",
    "from gensim.models.keyedvectors import KeyedVectors\n",
    "from sklearn.metrics import classification_report, f1_score, precision_score, recall_score\n",
    "from sklearn import linear_model"
   ]
  },
  {
   "cell_type": "code",
   "execution_count": 2,
   "metadata": {},
   "outputs": [
    {
     "name": "stdout",
     "output_type": "stream",
     "text": [
      "loading corpus\n",
      "test corpus loaded!\n",
      "Wall time: 10 ms\n"
     ]
    }
   ],
   "source": [
    "%%time\n",
    "def testCorpus(path_, split = 100):\n",
    "    print('loading corpus')\n",
    "    result, spl = [], 0\n",
    "    file = open(path_, 'r', encoding='utf8')\n",
    "    for line in file:\n",
    "        if spl != split:\n",
    "            element = line.split(',')\n",
    "            result.append([element[0], element[1], element[2], int(element[3]), int(element[4]), int(element[5])])\n",
    "        else:\n",
    "            break\n",
    "    print('test corpus loaded!')\n",
    "    return(result)\n",
    "\n",
    "test_corpus = testCorpus('validation_wiki.txt')"
   ]
  },
  {
   "cell_type": "code",
   "execution_count": 3,
   "metadata": {},
   "outputs": [
    {
     "name": "stdout",
     "output_type": "stream",
     "text": [
      "Wall time: 1min 54s\n"
     ]
    }
   ],
   "source": [
    "%%time\n",
    "path_ = 'glove.6B.200d.txt'\n",
    "word_vectors = KeyedVectors.load_word2vec_format(path_, binary=False)"
   ]
  },
  {
   "cell_type": "code",
   "execution_count": 4,
   "metadata": {},
   "outputs": [
    {
     "name": "stdout",
     "output_type": "stream",
     "text": [
      "Wall time: 1.32 s\n"
     ]
    }
   ],
   "source": [
    "%%time\n",
    "X, y = [], []\n",
    "for group in test_corpus:\n",
    "    try:\n",
    "        sim_01 = word_vectors.similarity(group[0], group[1])\n",
    "        sim_12 = word_vectors.similarity(group[1], group[2])\n",
    "        sim_02 = word_vectors.similarity(group[0], group[2])\n",
    "        wiki_3_in_1 = group[4]\n",
    "        wiki_3_in_2 = group[5]\n",
    "        if word_vectors.doesnt_match(group[:3]) == group[2]:\n",
    "            third_wheel = 1\n",
    "        else:\n",
    "            third_wheel = 0\n",
    "            \n",
    "        #print(group[0], group[1], group[2], sim_01, sim_12, sim_02, wiki_3_in_1, wiki_3_in_2, third_wheel)\n",
    "        \n",
    "        X.append((sim_01, sim_12, sim_02, wiki_3_in_1, wiki_3_in_2, third_wheel))\n",
    "        y.append(group[3])\n",
    "        \n",
    "    except:\n",
    "        pass\n",
    "    \n",
    "X_train = X[:-1000]\n",
    "X_test = X[-1000:]\n",
    "y_train = y[:-1000]\n",
    "y_test = y[-1000:]"
   ]
  },
  {
   "cell_type": "code",
   "execution_count": 5,
   "metadata": {},
   "outputs": [
    {
     "name": "stdout",
     "output_type": "stream",
     "text": [
      "             precision    recall  f1-score   support\n",
      "\n",
      "          0       0.66      0.58      0.62       509\n",
      "          1       0.61      0.69      0.65       491\n",
      "\n",
      "avg / total       0.64      0.63      0.63      1000\n",
      "\n"
     ]
    }
   ],
   "source": [
    "clf_logreg = linear_model.LogisticRegression(random_state = 33)\n",
    "clf_logreg.fit(X_train, y_train)\n",
    "predictions = clf_logreg.predict(X_test)\n",
    "print(classification_report(y_test, predictions))"
   ]
  },
  {
   "cell_type": "code",
   "execution_count": null,
   "metadata": {},
   "outputs": [],
   "source": []
  }
 ],
 "metadata": {
  "kernelspec": {
   "display_name": "Python 3",
   "language": "python",
   "name": "python3"
  },
  "language_info": {
   "codemirror_mode": {
    "name": "ipython",
    "version": 3
   },
   "file_extension": ".py",
   "mimetype": "text/x-python",
   "name": "python",
   "nbconvert_exporter": "python",
   "pygments_lexer": "ipython3",
   "version": "3.6.3"
  }
 },
 "nbformat": 4,
 "nbformat_minor": 2
}
